{
 "cells": [
  {
   "cell_type": "code",
   "execution_count": 7,
   "id": "3bf712d8",
   "metadata": {},
   "outputs": [],
   "source": [
    "import cv2\n",
    "import time"
   ]
  },
  {
   "cell_type": "code",
   "execution_count": 8,
   "id": "0a2ca6fd",
   "metadata": {},
   "outputs": [],
   "source": [
    "im1=cv2.imread('Pictures/ex1.png')\n",
    "im2=cv2.imread('Pictures/ex2.png')\n",
    "im3=cv2.imread('Downloads/example.png')\n",
    "im4=cv2.imread('Downloads/example2.png')"
   ]
  },
  {
   "cell_type": "code",
   "execution_count": 3,
   "id": "e192935c",
   "metadata": {},
   "outputs": [],
   "source": [
    "img1=cv2.resize(im1,(im2.shape[0],im2.shape[0]), interpolation= cv2.INTER_LINEAR)\n",
    "img2=cv2.resize(im2,(im2.shape[0],im2.shape[0]), interpolation= cv2.INTER_LINEAR)"
   ]
  },
  {
   "cell_type": "code",
   "execution_count": 4,
   "id": "f5251e2a",
   "metadata": {},
   "outputs": [
    {
     "data": {
      "text/plain": [
       "(430, 866, 3)"
      ]
     },
     "execution_count": 4,
     "metadata": {},
     "output_type": "execute_result"
    }
   ],
   "source": [
    "im1.shape"
   ]
  },
  {
   "cell_type": "code",
   "execution_count": 5,
   "id": "092d5a46",
   "metadata": {},
   "outputs": [
    {
     "data": {
      "text/plain": [
       "(426, 867, 3)"
      ]
     },
     "execution_count": 5,
     "metadata": {},
     "output_type": "execute_result"
    }
   ],
   "source": [
    "im2.shape"
   ]
  },
  {
   "cell_type": "code",
   "execution_count": 6,
   "id": "495136c8",
   "metadata": {},
   "outputs": [
    {
     "data": {
      "text/plain": [
       "(426, 426, 3)"
      ]
     },
     "execution_count": 6,
     "metadata": {},
     "output_type": "execute_result"
    }
   ],
   "source": [
    "img1.shape"
   ]
  },
  {
   "cell_type": "code",
   "execution_count": 7,
   "id": "08a549e6",
   "metadata": {},
   "outputs": [
    {
     "data": {
      "text/plain": [
       "(426, 426, 3)"
      ]
     },
     "execution_count": 7,
     "metadata": {},
     "output_type": "execute_result"
    }
   ],
   "source": [
    "img2.shape"
   ]
  },
  {
   "cell_type": "code",
   "execution_count": 8,
   "id": "23a40cfc",
   "metadata": {},
   "outputs": [],
   "source": [
    "difference = cv2.subtract(img1,img2)"
   ]
  },
  {
   "cell_type": "code",
   "execution_count": 11,
   "id": "310318d9",
   "metadata": {},
   "outputs": [
    {
     "name": "stderr",
     "output_type": "stream",
     "text": [
      "QObject::moveToThread: Current thread (0x5565648fb900) is not the object's thread (0x556564d74fd0).\n",
      "Cannot move to target thread (0x5565648fb900)\n",
      "\n",
      "QObject::moveToThread: Current thread (0x5565648fb900) is not the object's thread (0x556564d74fd0).\n",
      "Cannot move to target thread (0x5565648fb900)\n",
      "\n",
      "QObject::moveToThread: Current thread (0x5565648fb900) is not the object's thread (0x556564d74fd0).\n",
      "Cannot move to target thread (0x5565648fb900)\n",
      "\n",
      "QObject::moveToThread: Current thread (0x5565648fb900) is not the object's thread (0x556564d74fd0).\n",
      "Cannot move to target thread (0x5565648fb900)\n",
      "\n",
      "QObject::moveToThread: Current thread (0x5565648fb900) is not the object's thread (0x556564d74fd0).\n",
      "Cannot move to target thread (0x5565648fb900)\n",
      "\n",
      "QObject::moveToThread: Current thread (0x5565648fb900) is not the object's thread (0x556564d74fd0).\n",
      "Cannot move to target thread (0x5565648fb900)\n",
      "\n",
      "QObject::moveToThread: Current thread (0x5565648fb900) is not the object's thread (0x556564d74fd0).\n",
      "Cannot move to target thread (0x5565648fb900)\n",
      "\n",
      "QObject::moveToThread: Current thread (0x5565648fb900) is not the object's thread (0x556564d74fd0).\n",
      "Cannot move to target thread (0x5565648fb900)\n",
      "\n",
      "QObject::moveToThread: Current thread (0x5565648fb900) is not the object's thread (0x556564d74fd0).\n",
      "Cannot move to target thread (0x5565648fb900)\n",
      "\n",
      "QObject::moveToThread: Current thread (0x5565648fb900) is not the object's thread (0x556564d74fd0).\n",
      "Cannot move to target thread (0x5565648fb900)\n",
      "\n",
      "QObject::moveToThread: Current thread (0x5565648fb900) is not the object's thread (0x556564d74fd0).\n",
      "Cannot move to target thread (0x5565648fb900)\n",
      "\n",
      "QObject::moveToThread: Current thread (0x5565648fb900) is not the object's thread (0x556564d74fd0).\n",
      "Cannot move to target thread (0x5565648fb900)\n",
      "\n",
      "QObject::moveToThread: Current thread (0x5565648fb900) is not the object's thread (0x556564d74fd0).\n",
      "Cannot move to target thread (0x5565648fb900)\n",
      "\n",
      "QObject::moveToThread: Current thread (0x5565648fb900) is not the object's thread (0x556564d74fd0).\n",
      "Cannot move to target thread (0x5565648fb900)\n",
      "\n",
      "QObject::moveToThread: Current thread (0x5565648fb900) is not the object's thread (0x556564d74fd0).\n",
      "Cannot move to target thread (0x5565648fb900)\n",
      "\n",
      "QObject::moveToThread: Current thread (0x5565648fb900) is not the object's thread (0x556564d74fd0).\n",
      "Cannot move to target thread (0x5565648fb900)\n",
      "\n",
      "QObject::moveToThread: Current thread (0x5565648fb900) is not the object's thread (0x556564d74fd0).\n",
      "Cannot move to target thread (0x5565648fb900)\n",
      "\n",
      "QObject::moveToThread: Current thread (0x5565648fb900) is not the object's thread (0x556564d74fd0).\n",
      "Cannot move to target thread (0x5565648fb900)\n",
      "\n",
      "QObject::moveToThread: Current thread (0x5565648fb900) is not the object's thread (0x556564d74fd0).\n",
      "Cannot move to target thread (0x5565648fb900)\n",
      "\n",
      "QObject::moveToThread: Current thread (0x5565648fb900) is not the object's thread (0x556564d74fd0).\n",
      "Cannot move to target thread (0x5565648fb900)\n",
      "\n",
      "QObject::moveToThread: Current thread (0x5565648fb900) is not the object's thread (0x556564d74fd0).\n",
      "Cannot move to target thread (0x5565648fb900)\n",
      "\n",
      "QObject::moveToThread: Current thread (0x5565648fb900) is not the object's thread (0x556564d74fd0).\n",
      "Cannot move to target thread (0x5565648fb900)\n",
      "\n",
      "QObject::moveToThread: Current thread (0x5565648fb900) is not the object's thread (0x556564d74fd0).\n",
      "Cannot move to target thread (0x5565648fb900)\n",
      "\n",
      "QObject::moveToThread: Current thread (0x5565648fb900) is not the object's thread (0x556564d74fd0).\n",
      "Cannot move to target thread (0x5565648fb900)\n",
      "\n",
      "QObject::moveToThread: Current thread (0x5565648fb900) is not the object's thread (0x556564d74fd0).\n",
      "Cannot move to target thread (0x5565648fb900)\n",
      "\n",
      "QObject::moveToThread: Current thread (0x5565648fb900) is not the object's thread (0x556564d74fd0).\n",
      "Cannot move to target thread (0x5565648fb900)\n",
      "\n",
      "QObject::moveToThread: Current thread (0x5565648fb900) is not the object's thread (0x556564d74fd0).\n",
      "Cannot move to target thread (0x5565648fb900)\n",
      "\n",
      "QObject::moveToThread: Current thread (0x5565648fb900) is not the object's thread (0x556564d74fd0).\n",
      "Cannot move to target thread (0x5565648fb900)\n",
      "\n",
      "QObject::moveToThread: Current thread (0x5565648fb900) is not the object's thread (0x556564d74fd0).\n",
      "Cannot move to target thread (0x5565648fb900)\n",
      "\n",
      "QObject::moveToThread: Current thread (0x5565648fb900) is not the object's thread (0x556564d74fd0).\n",
      "Cannot move to target thread (0x5565648fb900)\n",
      "\n",
      "QObject::moveToThread: Current thread (0x5565648fb900) is not the object's thread (0x556564d74fd0).\n",
      "Cannot move to target thread (0x5565648fb900)\n",
      "\n",
      "QObject::moveToThread: Current thread (0x5565648fb900) is not the object's thread (0x556564d74fd0).\n",
      "Cannot move to target thread (0x5565648fb900)\n",
      "\n",
      "QObject::moveToThread: Current thread (0x5565648fb900) is not the object's thread (0x556564d74fd0).\n",
      "Cannot move to target thread (0x5565648fb900)\n",
      "\n",
      "QObject::moveToThread: Current thread (0x5565648fb900) is not the object's thread (0x556564d74fd0).\n",
      "Cannot move to target thread (0x5565648fb900)\n",
      "\n",
      "QObject::moveToThread: Current thread (0x5565648fb900) is not the object's thread (0x556564d74fd0).\n",
      "Cannot move to target thread (0x5565648fb900)\n",
      "\n",
      "QObject::moveToThread: Current thread (0x5565648fb900) is not the object's thread (0x556564d74fd0).\n",
      "Cannot move to target thread (0x5565648fb900)\n",
      "\n",
      "QObject::moveToThread: Current thread (0x5565648fb900) is not the object's thread (0x556564d74fd0).\n",
      "Cannot move to target thread (0x5565648fb900)\n",
      "\n",
      "QObject::moveToThread: Current thread (0x5565648fb900) is not the object's thread (0x556564d74fd0).\n",
      "Cannot move to target thread (0x5565648fb900)\n",
      "\n",
      "QObject::moveToThread: Current thread (0x5565648fb900) is not the object's thread (0x556564d74fd0).\n",
      "Cannot move to target thread (0x5565648fb900)\n",
      "\n",
      "QObject::moveToThread: Current thread (0x5565648fb900) is not the object's thread (0x556564d74fd0).\n",
      "Cannot move to target thread (0x5565648fb900)\n",
      "\n",
      "QObject::moveToThread: Current thread (0x5565648fb900) is not the object's thread (0x556564d74fd0).\n",
      "Cannot move to target thread (0x5565648fb900)\n",
      "\n",
      "QObject::moveToThread: Current thread (0x5565648fb900) is not the object's thread (0x556564d74fd0).\n",
      "Cannot move to target thread (0x5565648fb900)\n",
      "\n",
      "QObject::moveToThread: Current thread (0x5565648fb900) is not the object's thread (0x556564d74fd0).\n",
      "Cannot move to target thread (0x5565648fb900)\n",
      "\n",
      "QObject::moveToThread: Current thread (0x5565648fb900) is not the object's thread (0x556564d74fd0).\n",
      "Cannot move to target thread (0x5565648fb900)\n",
      "\n",
      "QObject::moveToThread: Current thread (0x5565648fb900) is not the object's thread (0x556564d74fd0).\n",
      "Cannot move to target thread (0x5565648fb900)\n",
      "\n",
      "QObject::moveToThread: Current thread (0x5565648fb900) is not the object's thread (0x556564d74fd0).\n",
      "Cannot move to target thread (0x5565648fb900)\n",
      "\n",
      "QObject::moveToThread: Current thread (0x5565648fb900) is not the object's thread (0x556564d74fd0).\n",
      "Cannot move to target thread (0x5565648fb900)\n",
      "\n",
      "QObject::moveToThread: Current thread (0x5565648fb900) is not the object's thread (0x556564d74fd0).\n",
      "Cannot move to target thread (0x5565648fb900)\n",
      "\n",
      "QObject::moveToThread: Current thread (0x5565648fb900) is not the object's thread (0x556564d74fd0).\n",
      "Cannot move to target thread (0x5565648fb900)\n",
      "\n",
      "QObject::moveToThread: Current thread (0x5565648fb900) is not the object's thread (0x556564d74fd0).\n",
      "Cannot move to target thread (0x5565648fb900)\n",
      "\n",
      "QObject::moveToThread: Current thread (0x5565648fb900) is not the object's thread (0x556564d74fd0).\n",
      "Cannot move to target thread (0x5565648fb900)\n",
      "\n",
      "QObject::moveToThread: Current thread (0x5565648fb900) is not the object's thread (0x556564d74fd0).\n",
      "Cannot move to target thread (0x5565648fb900)\n",
      "\n",
      "QObject::moveToThread: Current thread (0x5565648fb900) is not the object's thread (0x556564d74fd0).\n",
      "Cannot move to target thread (0x5565648fb900)\n",
      "\n",
      "QObject::moveToThread: Current thread (0x5565648fb900) is not the object's thread (0x556564d74fd0).\n",
      "Cannot move to target thread (0x5565648fb900)\n",
      "\n",
      "QObject::moveToThread: Current thread (0x5565648fb900) is not the object's thread (0x556564d74fd0).\n",
      "Cannot move to target thread (0x5565648fb900)\n",
      "\n",
      "QObject::moveToThread: Current thread (0x5565648fb900) is not the object's thread (0x556564d74fd0).\n",
      "Cannot move to target thread (0x5565648fb900)\n",
      "\n",
      "QObject::moveToThread: Current thread (0x5565648fb900) is not the object's thread (0x556564d74fd0).\n",
      "Cannot move to target thread (0x5565648fb900)\n",
      "\n",
      "QObject::moveToThread: Current thread (0x5565648fb900) is not the object's thread (0x556564d74fd0).\n",
      "Cannot move to target thread (0x5565648fb900)\n",
      "\n",
      "QObject::moveToThread: Current thread (0x5565648fb900) is not the object's thread (0x556564d74fd0).\n",
      "Cannot move to target thread (0x5565648fb900)\n",
      "\n",
      "QObject::moveToThread: Current thread (0x5565648fb900) is not the object's thread (0x556564d74fd0).\n",
      "Cannot move to target thread (0x5565648fb900)\n",
      "\n",
      "QObject::moveToThread: Current thread (0x5565648fb900) is not the object's thread (0x556564d74fd0).\n",
      "Cannot move to target thread (0x5565648fb900)\n",
      "\n",
      "QObject::moveToThread: Current thread (0x5565648fb900) is not the object's thread (0x556564d74fd0).\n",
      "Cannot move to target thread (0x5565648fb900)\n",
      "\n",
      "QObject::moveToThread: Current thread (0x5565648fb900) is not the object's thread (0x556564d74fd0).\n",
      "Cannot move to target thread (0x5565648fb900)\n",
      "\n",
      "QObject::moveToThread: Current thread (0x5565648fb900) is not the object's thread (0x556564d74fd0).\n",
      "Cannot move to target thread (0x5565648fb900)\n",
      "\n",
      "QObject::moveToThread: Current thread (0x5565648fb900) is not the object's thread (0x556564d74fd0).\n",
      "Cannot move to target thread (0x5565648fb900)\n",
      "\n",
      "QObject::moveToThread: Current thread (0x5565648fb900) is not the object's thread (0x556564d74fd0).\n",
      "Cannot move to target thread (0x5565648fb900)\n",
      "\n",
      "QObject::moveToThread: Current thread (0x5565648fb900) is not the object's thread (0x556564d74fd0).\n",
      "Cannot move to target thread (0x5565648fb900)\n",
      "\n",
      "QObject::moveToThread: Current thread (0x5565648fb900) is not the object's thread (0x556564d74fd0).\n",
      "Cannot move to target thread (0x5565648fb900)\n",
      "\n",
      "QObject::moveToThread: Current thread (0x5565648fb900) is not the object's thread (0x556564d74fd0).\n",
      "Cannot move to target thread (0x5565648fb900)\n",
      "\n",
      "QObject::moveToThread: Current thread (0x5565648fb900) is not the object's thread (0x556564d74fd0).\n",
      "Cannot move to target thread (0x5565648fb900)\n",
      "\n",
      "QObject::moveToThread: Current thread (0x5565648fb900) is not the object's thread (0x556564d74fd0).\n",
      "Cannot move to target thread (0x5565648fb900)\n",
      "\n",
      "QObject::moveToThread: Current thread (0x5565648fb900) is not the object's thread (0x556564d74fd0).\n",
      "Cannot move to target thread (0x5565648fb900)\n",
      "\n",
      "QObject::moveToThread: Current thread (0x5565648fb900) is not the object's thread (0x556564d74fd0).\n",
      "Cannot move to target thread (0x5565648fb900)\n",
      "\n",
      "QObject::moveToThread: Current thread (0x5565648fb900) is not the object's thread (0x556564d74fd0).\n",
      "Cannot move to target thread (0x5565648fb900)\n",
      "\n",
      "QObject::moveToThread: Current thread (0x5565648fb900) is not the object's thread (0x556564d74fd0).\n",
      "Cannot move to target thread (0x5565648fb900)\n",
      "\n",
      "QObject::moveToThread: Current thread (0x5565648fb900) is not the object's thread (0x556564d74fd0).\n",
      "Cannot move to target thread (0x5565648fb900)\n",
      "\n",
      "QObject::moveToThread: Current thread (0x5565648fb900) is not the object's thread (0x556564d74fd0).\n",
      "Cannot move to target thread (0x5565648fb900)\n",
      "\n",
      "QObject::moveToThread: Current thread (0x5565648fb900) is not the object's thread (0x556564d74fd0).\n",
      "Cannot move to target thread (0x5565648fb900)\n",
      "\n",
      "QObject::moveToThread: Current thread (0x5565648fb900) is not the object's thread (0x556564d74fd0).\n",
      "Cannot move to target thread (0x5565648fb900)\n",
      "\n",
      "QObject::moveToThread: Current thread (0x5565648fb900) is not the object's thread (0x556564d74fd0).\n",
      "Cannot move to target thread (0x5565648fb900)\n",
      "\n",
      "QObject::moveToThread: Current thread (0x5565648fb900) is not the object's thread (0x556564d74fd0).\n",
      "Cannot move to target thread (0x5565648fb900)\n",
      "\n",
      "QObject::moveToThread: Current thread (0x5565648fb900) is not the object's thread (0x556564d74fd0).\n",
      "Cannot move to target thread (0x5565648fb900)\n",
      "\n",
      "QObject::moveToThread: Current thread (0x5565648fb900) is not the object's thread (0x556564d74fd0).\n",
      "Cannot move to target thread (0x5565648fb900)\n",
      "\n",
      "QObject::moveToThread: Current thread (0x5565648fb900) is not the object's thread (0x556564d74fd0).\n",
      "Cannot move to target thread (0x5565648fb900)\n",
      "\n",
      "QObject::moveToThread: Current thread (0x5565648fb900) is not the object's thread (0x556564d74fd0).\n",
      "Cannot move to target thread (0x5565648fb900)\n",
      "\n",
      "QObject::moveToThread: Current thread (0x5565648fb900) is not the object's thread (0x556564d74fd0).\n",
      "Cannot move to target thread (0x5565648fb900)\n",
      "\n",
      "QObject::moveToThread: Current thread (0x5565648fb900) is not the object's thread (0x556564d74fd0).\n",
      "Cannot move to target thread (0x5565648fb900)\n",
      "\n",
      "QObject::moveToThread: Current thread (0x5565648fb900) is not the object's thread (0x556564d74fd0).\n",
      "Cannot move to target thread (0x5565648fb900)\n",
      "\n",
      "QObject::moveToThread: Current thread (0x5565648fb900) is not the object's thread (0x556564d74fd0).\n",
      "Cannot move to target thread (0x5565648fb900)\n",
      "\n",
      "QObject::moveToThread: Current thread (0x5565648fb900) is not the object's thread (0x556564d74fd0).\n",
      "Cannot move to target thread (0x5565648fb900)\n",
      "\n",
      "QObject::moveToThread: Current thread (0x5565648fb900) is not the object's thread (0x556564d74fd0).\n",
      "Cannot move to target thread (0x5565648fb900)\n",
      "\n",
      "QObject::moveToThread: Current thread (0x5565648fb900) is not the object's thread (0x556564d74fd0).\n",
      "Cannot move to target thread (0x5565648fb900)\n",
      "\n",
      "QObject::moveToThread: Current thread (0x5565648fb900) is not the object's thread (0x556564d74fd0).\n",
      "Cannot move to target thread (0x5565648fb900)\n",
      "\n",
      "QObject::moveToThread: Current thread (0x5565648fb900) is not the object's thread (0x556564d74fd0).\n",
      "Cannot move to target thread (0x5565648fb900)\n",
      "\n",
      "QObject::moveToThread: Current thread (0x5565648fb900) is not the object's thread (0x556564d74fd0).\n",
      "Cannot move to target thread (0x5565648fb900)\n",
      "\n",
      "QObject::moveToThread: Current thread (0x5565648fb900) is not the object's thread (0x556564d74fd0).\n",
      "Cannot move to target thread (0x5565648fb900)\n",
      "\n",
      "QObject::moveToThread: Current thread (0x5565648fb900) is not the object's thread (0x556564d74fd0).\n",
      "Cannot move to target thread (0x5565648fb900)\n",
      "\n",
      "QObject::moveToThread: Current thread (0x5565648fb900) is not the object's thread (0x556564d74fd0).\n",
      "Cannot move to target thread (0x5565648fb900)\n",
      "\n",
      "QObject::moveToThread: Current thread (0x5565648fb900) is not the object's thread (0x556564d74fd0).\n",
      "Cannot move to target thread (0x5565648fb900)\n",
      "\n",
      "QObject::moveToThread: Current thread (0x5565648fb900) is not the object's thread (0x556564d74fd0).\n",
      "Cannot move to target thread (0x5565648fb900)\n",
      "\n",
      "QObject::moveToThread: Current thread (0x5565648fb900) is not the object's thread (0x556564d74fd0).\n",
      "Cannot move to target thread (0x5565648fb900)\n",
      "\n",
      "QObject::moveToThread: Current thread (0x5565648fb900) is not the object's thread (0x556564d74fd0).\n",
      "Cannot move to target thread (0x5565648fb900)\n",
      "\n",
      "QObject::moveToThread: Current thread (0x5565648fb900) is not the object's thread (0x556564d74fd0).\n",
      "Cannot move to target thread (0x5565648fb900)\n",
      "\n",
      "QObject::moveToThread: Current thread (0x5565648fb900) is not the object's thread (0x556564d74fd0).\n",
      "Cannot move to target thread (0x5565648fb900)\n",
      "\n",
      "QObject::moveToThread: Current thread (0x5565648fb900) is not the object's thread (0x556564d74fd0).\n",
      "Cannot move to target thread (0x5565648fb900)\n",
      "\n",
      "QObject::moveToThread: Current thread (0x5565648fb900) is not the object's thread (0x556564d74fd0).\n",
      "Cannot move to target thread (0x5565648fb900)\n",
      "\n",
      "QObject::moveToThread: Current thread (0x5565648fb900) is not the object's thread (0x556564d74fd0).\n",
      "Cannot move to target thread (0x5565648fb900)\n",
      "\n",
      "QObject::moveToThread: Current thread (0x5565648fb900) is not the object's thread (0x556564d74fd0).\n",
      "Cannot move to target thread (0x5565648fb900)\n",
      "\n",
      "QObject::moveToThread: Current thread (0x5565648fb900) is not the object's thread (0x556564d74fd0).\n",
      "Cannot move to target thread (0x5565648fb900)\n",
      "\n",
      "QObject::moveToThread: Current thread (0x5565648fb900) is not the object's thread (0x556564d74fd0).\n",
      "Cannot move to target thread (0x5565648fb900)\n",
      "\n",
      "QObject::moveToThread: Current thread (0x5565648fb900) is not the object's thread (0x556564d74fd0).\n",
      "Cannot move to target thread (0x5565648fb900)\n",
      "\n",
      "QObject::moveToThread: Current thread (0x5565648fb900) is not the object's thread (0x556564d74fd0).\n",
      "Cannot move to target thread (0x5565648fb900)\n",
      "\n",
      "QObject::moveToThread: Current thread (0x5565648fb900) is not the object's thread (0x556564d74fd0).\n",
      "Cannot move to target thread (0x5565648fb900)\n",
      "\n",
      "QObject::moveToThread: Current thread (0x5565648fb900) is not the object's thread (0x556564d74fd0).\n",
      "Cannot move to target thread (0x5565648fb900)\n",
      "\n",
      "QObject::moveToThread: Current thread (0x5565648fb900) is not the object's thread (0x556564d74fd0).\n",
      "Cannot move to target thread (0x5565648fb900)\n",
      "\n",
      "QObject::moveToThread: Current thread (0x5565648fb900) is not the object's thread (0x556564d74fd0).\n",
      "Cannot move to target thread (0x5565648fb900)\n",
      "\n",
      "QObject::moveToThread: Current thread (0x5565648fb900) is not the object's thread (0x556564d74fd0).\n",
      "Cannot move to target thread (0x5565648fb900)\n",
      "\n",
      "QObject::moveToThread: Current thread (0x5565648fb900) is not the object's thread (0x556564d74fd0).\n",
      "Cannot move to target thread (0x5565648fb900)\n",
      "\n",
      "QObject::moveToThread: Current thread (0x5565648fb900) is not the object's thread (0x556564d74fd0).\n",
      "Cannot move to target thread (0x5565648fb900)\n",
      "\n",
      "QObject::moveToThread: Current thread (0x5565648fb900) is not the object's thread (0x556564d74fd0).\n",
      "Cannot move to target thread (0x5565648fb900)\n",
      "\n",
      "QObject::moveToThread: Current thread (0x5565648fb900) is not the object's thread (0x556564d74fd0).\n",
      "Cannot move to target thread (0x5565648fb900)\n",
      "\n",
      "QObject::moveToThread: Current thread (0x5565648fb900) is not the object's thread (0x556564d74fd0).\n",
      "Cannot move to target thread (0x5565648fb900)\n",
      "\n",
      "QObject::moveToThread: Current thread (0x5565648fb900) is not the object's thread (0x556564d74fd0).\n",
      "Cannot move to target thread (0x5565648fb900)\n",
      "\n",
      "QObject::moveToThread: Current thread (0x5565648fb900) is not the object's thread (0x556564d74fd0).\n",
      "Cannot move to target thread (0x5565648fb900)\n",
      "\n",
      "QObject::moveToThread: Current thread (0x5565648fb900) is not the object's thread (0x556564d74fd0).\n",
      "Cannot move to target thread (0x5565648fb900)\n",
      "\n",
      "QObject::moveToThread: Current thread (0x5565648fb900) is not the object's thread (0x556564d74fd0).\n",
      "Cannot move to target thread (0x5565648fb900)\n",
      "\n",
      "QObject::moveToThread: Current thread (0x5565648fb900) is not the object's thread (0x556564d74fd0).\n",
      "Cannot move to target thread (0x5565648fb900)\n",
      "\n",
      "QObject::moveToThread: Current thread (0x5565648fb900) is not the object's thread (0x556564d74fd0).\n",
      "Cannot move to target thread (0x5565648fb900)\n",
      "\n"
     ]
    },
    {
     "name": "stderr",
     "output_type": "stream",
     "text": [
      "QObject::moveToThread: Current thread (0x5565648fb900) is not the object's thread (0x556564d74fd0).\n",
      "Cannot move to target thread (0x5565648fb900)\n",
      "\n",
      "QObject::moveToThread: Current thread (0x5565648fb900) is not the object's thread (0x556564d74fd0).\n",
      "Cannot move to target thread (0x5565648fb900)\n",
      "\n"
     ]
    }
   ],
   "source": [
    "cv2.imshow('difference',difference)"
   ]
  },
  {
   "cell_type": "code",
   "execution_count": 13,
   "id": "13e975d6",
   "metadata": {},
   "outputs": [
    {
     "data": {
      "text/plain": [
       "array([[[  0,  62, 114],\n",
       "        [  0,   0,   5],\n",
       "        [  0,   0,   1],\n",
       "        ...,\n",
       "        [  2,   3,   0],\n",
       "        [  2,   3,   0],\n",
       "        [  1,   2,   0]],\n",
       "\n",
       "       [[ 13,  67, 115],\n",
       "        [  0,   0,   5],\n",
       "        [  0,   0,   0],\n",
       "        ...,\n",
       "        [  2,   3,   0],\n",
       "        [  2,   3,   0],\n",
       "        [  1,   2,   0]],\n",
       "\n",
       "       [[ 24,  68, 112],\n",
       "        [  0,   0,   6],\n",
       "        [  0,   0,   0],\n",
       "        ...,\n",
       "        [  2,   3,   0],\n",
       "        [  2,   3,   0],\n",
       "        [  1,   2,   0]],\n",
       "\n",
       "       ...,\n",
       "\n",
       "       [[ 89,  89,  91],\n",
       "        [  0,   0,   0],\n",
       "        [  0,   0,   0],\n",
       "        ...,\n",
       "        [152,  68,   0],\n",
       "        [182, 131,  41],\n",
       "        [182, 136,  36]],\n",
       "\n",
       "       [[ 88,  88,  89],\n",
       "        [  0,   0,   0],\n",
       "        [  0,   0,   0],\n",
       "        ...,\n",
       "        [163,  85,   2],\n",
       "        [180, 137,  44],\n",
       "        [180, 135,  33]],\n",
       "\n",
       "       [[ 88,  88,  89],\n",
       "        [  0,   0,   0],\n",
       "        [  0,   0,   0],\n",
       "        ...,\n",
       "        [172, 108,  26],\n",
       "        [180, 140,  46],\n",
       "        [175, 130,  29]]], dtype=uint8)"
      ]
     },
     "execution_count": 13,
     "metadata": {},
     "output_type": "execute_result"
    }
   ],
   "source": [
    "difference"
   ]
  },
  {
   "cell_type": "code",
   "execution_count": 13,
   "id": "0aebc6b1",
   "metadata": {},
   "outputs": [],
   "source": [
    "#Using ORB\n",
    "def orb_sim(img1,img2):\n",
    "    orb=cv2.ORB_create()\n",
    "    \n",
    "    key_a, desc_a =orb.detectAndCompute(img1,None)\n",
    "    key_b, desc_b =orb.detectAndCompute(img1,None)\n",
    "    \n",
    "    bf =cv2.BFMatcher(cv2.NORM_HAMMING , crossCheck= True)\n",
    "    \n",
    "    matches= bf.match(desc_a, desc_b)\n",
    "    similar_region = [i for i in matches if i.distance < 70]\n",
    "    if len( matches)==0:\n",
    "        return 0\n",
    "    return len( similar_region)/len(matches)\n",
    "    "
   ]
  },
  {
   "cell_type": "code",
   "execution_count": 14,
   "id": "a151a4aa",
   "metadata": {},
   "outputs": [
    {
     "name": "stdout",
     "output_type": "stream",
     "text": [
      "1.0\n",
      "time!!!!! 0.020663022994995117\n"
     ]
    }
   ],
   "source": [
    "start = time.time()\n",
    "print(orb_sim(im1,im2))\n",
    "end = time.time()\n",
    "print('time!!!!!',end - start)  "
   ]
  },
  {
   "cell_type": "code",
   "execution_count": 9,
   "id": "6d468ab5",
   "metadata": {},
   "outputs": [
    {
     "data": {
      "text/plain": [
       "(430, 866, 3)"
      ]
     },
     "execution_count": 9,
     "metadata": {},
     "output_type": "execute_result"
    }
   ],
   "source": [
    "im1.shape"
   ]
  },
  {
   "cell_type": "code",
   "execution_count": 11,
   "id": "b65a7060",
   "metadata": {},
   "outputs": [],
   "source": [
    "img1 = np.squeeze(im1)"
   ]
  },
  {
   "cell_type": "code",
   "execution_count": 15,
   "id": "627592be",
   "metadata": {},
   "outputs": [
    {
     "name": "stdout",
     "output_type": "stream",
     "text": [
      "<class 'numpy.ndarray'> <class 'numpy.ndarray'>\n"
     ]
    }
   ],
   "source": [
    "print(type(img1),type(im1))"
   ]
  },
  {
   "cell_type": "code",
   "execution_count": 1,
   "id": "67952293",
   "metadata": {},
   "outputs": [],
   "source": [
    "############ using SSIM\n",
    "from skimage.metrics import structural_similarity\n",
    "import numpy as np"
   ]
  },
  {
   "cell_type": "code",
   "execution_count": 2,
   "id": "a184a04b",
   "metadata": {},
   "outputs": [],
   "source": [
    "def structural_sim(img1,img2):\n",
    "    img1 = np.squeeze(img1)\n",
    "    img2 = np.squeeze(img2)\n",
    "    sim,diff= structural_similarity(img1,img2,full=True)\n",
    "    return sim, diff"
   ]
  },
  {
   "cell_type": "code",
   "execution_count": 5,
   "id": "f21c2886",
   "metadata": {},
   "outputs": [
    {
     "ename": "ValueError",
     "evalue": "win_size exceeds image extent. Either ensure that your images are at least 7x7; or pass win_size explicitly in the function call, with an odd value less than or equal to the smaller side of your images. If your images are multichannel (with color channels), set channel_axis to the axis number corresponding to the channels.",
     "output_type": "error",
     "traceback": [
      "\u001b[0;31m---------------------------------------------------------------------------\u001b[0m",
      "\u001b[0;31mValueError\u001b[0m                                Traceback (most recent call last)",
      "\u001b[0;32m/tmp/ipykernel_93789/680428318.py\u001b[0m in \u001b[0;36m<module>\u001b[0;34m\u001b[0m\n\u001b[1;32m      1\u001b[0m \u001b[0mstart\u001b[0m \u001b[0;34m=\u001b[0m \u001b[0mtime\u001b[0m\u001b[0;34m.\u001b[0m\u001b[0mtime\u001b[0m\u001b[0;34m(\u001b[0m\u001b[0;34m)\u001b[0m\u001b[0;34m\u001b[0m\u001b[0;34m\u001b[0m\u001b[0m\n\u001b[0;32m----> 2\u001b[0;31m \u001b[0mprint\u001b[0m\u001b[0;34m(\u001b[0m\u001b[0mstructural_sim\u001b[0m\u001b[0;34m(\u001b[0m\u001b[0mim3\u001b[0m\u001b[0;34m,\u001b[0m\u001b[0mim3\u001b[0m\u001b[0;34m)\u001b[0m\u001b[0;34m)\u001b[0m\u001b[0;34m\u001b[0m\u001b[0;34m\u001b[0m\u001b[0m\n\u001b[0m\u001b[1;32m      3\u001b[0m \u001b[0mend\u001b[0m \u001b[0;34m=\u001b[0m \u001b[0mtime\u001b[0m\u001b[0;34m.\u001b[0m\u001b[0mtime\u001b[0m\u001b[0;34m(\u001b[0m\u001b[0;34m)\u001b[0m\u001b[0;34m\u001b[0m\u001b[0;34m\u001b[0m\u001b[0m\n\u001b[1;32m      4\u001b[0m \u001b[0mprint\u001b[0m\u001b[0;34m(\u001b[0m\u001b[0;34m'time!!!!!'\u001b[0m\u001b[0;34m,\u001b[0m\u001b[0mend\u001b[0m \u001b[0;34m-\u001b[0m \u001b[0mstart\u001b[0m\u001b[0;34m)\u001b[0m\u001b[0;34m\u001b[0m\u001b[0;34m\u001b[0m\u001b[0m\n",
      "\u001b[0;32m/tmp/ipykernel_93789/2798852402.py\u001b[0m in \u001b[0;36mstructural_sim\u001b[0;34m(img1, img2)\u001b[0m\n\u001b[1;32m      2\u001b[0m     \u001b[0mimg1\u001b[0m \u001b[0;34m=\u001b[0m \u001b[0mnp\u001b[0m\u001b[0;34m.\u001b[0m\u001b[0msqueeze\u001b[0m\u001b[0;34m(\u001b[0m\u001b[0mimg1\u001b[0m\u001b[0;34m)\u001b[0m\u001b[0;34m\u001b[0m\u001b[0;34m\u001b[0m\u001b[0m\n\u001b[1;32m      3\u001b[0m     \u001b[0mimg2\u001b[0m \u001b[0;34m=\u001b[0m \u001b[0mnp\u001b[0m\u001b[0;34m.\u001b[0m\u001b[0msqueeze\u001b[0m\u001b[0;34m(\u001b[0m\u001b[0mimg2\u001b[0m\u001b[0;34m)\u001b[0m\u001b[0;34m\u001b[0m\u001b[0;34m\u001b[0m\u001b[0m\n\u001b[0;32m----> 4\u001b[0;31m     \u001b[0msim\u001b[0m\u001b[0;34m,\u001b[0m\u001b[0mdiff\u001b[0m\u001b[0;34m=\u001b[0m \u001b[0mstructural_similarity\u001b[0m\u001b[0;34m(\u001b[0m\u001b[0mimg1\u001b[0m\u001b[0;34m,\u001b[0m\u001b[0mimg2\u001b[0m\u001b[0;34m,\u001b[0m\u001b[0mfull\u001b[0m\u001b[0;34m=\u001b[0m\u001b[0;32mTrue\u001b[0m\u001b[0;34m)\u001b[0m\u001b[0;34m\u001b[0m\u001b[0;34m\u001b[0m\u001b[0m\n\u001b[0m\u001b[1;32m      5\u001b[0m     \u001b[0;32mreturn\u001b[0m \u001b[0msim\u001b[0m\u001b[0;34m,\u001b[0m \u001b[0mdiff\u001b[0m\u001b[0;34m\u001b[0m\u001b[0;34m\u001b[0m\u001b[0m\n",
      "\u001b[0;32m~/anaconda3/envs/job/lib/python3.7/site-packages/skimage/_shared/utils.py\u001b[0m in \u001b[0;36mfixed_func\u001b[0;34m(*args, **kwargs)\u001b[0m\n\u001b[1;32m    346\u001b[0m \u001b[0;34m\u001b[0m\u001b[0m\n\u001b[1;32m    347\u001b[0m             \u001b[0;31m# Call the function with the fixed arguments\u001b[0m\u001b[0;34m\u001b[0m\u001b[0;34m\u001b[0m\u001b[0;34m\u001b[0m\u001b[0m\n\u001b[0;32m--> 348\u001b[0;31m             \u001b[0;32mreturn\u001b[0m \u001b[0mfunc\u001b[0m\u001b[0;34m(\u001b[0m\u001b[0;34m*\u001b[0m\u001b[0margs\u001b[0m\u001b[0;34m,\u001b[0m \u001b[0;34m**\u001b[0m\u001b[0mkwargs\u001b[0m\u001b[0;34m)\u001b[0m\u001b[0;34m\u001b[0m\u001b[0;34m\u001b[0m\u001b[0m\n\u001b[0m\u001b[1;32m    349\u001b[0m \u001b[0;34m\u001b[0m\u001b[0m\n\u001b[1;32m    350\u001b[0m         \u001b[0;32mif\u001b[0m \u001b[0mfunc\u001b[0m\u001b[0;34m.\u001b[0m\u001b[0m__doc__\u001b[0m \u001b[0;32mis\u001b[0m \u001b[0;32mnot\u001b[0m \u001b[0;32mNone\u001b[0m\u001b[0;34m:\u001b[0m\u001b[0;34m\u001b[0m\u001b[0;34m\u001b[0m\u001b[0m\n",
      "\u001b[0;32m~/anaconda3/envs/job/lib/python3.7/site-packages/skimage/metrics/_structural_similarity.py\u001b[0m in \u001b[0;36mstructural_similarity\u001b[0;34m(im1, im2, win_size, gradient, data_range, channel_axis, multichannel, gaussian_weights, full, **kwargs)\u001b[0m\n\u001b[1;32m    167\u001b[0m     \u001b[0;32mif\u001b[0m \u001b[0mnp\u001b[0m\u001b[0;34m.\u001b[0m\u001b[0many\u001b[0m\u001b[0;34m(\u001b[0m\u001b[0;34m(\u001b[0m\u001b[0mnp\u001b[0m\u001b[0;34m.\u001b[0m\u001b[0masarray\u001b[0m\u001b[0;34m(\u001b[0m\u001b[0mim1\u001b[0m\u001b[0;34m.\u001b[0m\u001b[0mshape\u001b[0m\u001b[0;34m)\u001b[0m \u001b[0;34m-\u001b[0m \u001b[0mwin_size\u001b[0m\u001b[0;34m)\u001b[0m \u001b[0;34m<\u001b[0m \u001b[0;36m0\u001b[0m\u001b[0;34m)\u001b[0m\u001b[0;34m:\u001b[0m\u001b[0;34m\u001b[0m\u001b[0;34m\u001b[0m\u001b[0m\n\u001b[1;32m    168\u001b[0m         raise ValueError(\n\u001b[0;32m--> 169\u001b[0;31m             \u001b[0;34m'win_size exceeds image extent. '\u001b[0m\u001b[0;34m\u001b[0m\u001b[0;34m\u001b[0m\u001b[0m\n\u001b[0m\u001b[1;32m    170\u001b[0m             \u001b[0;34m'Either ensure that your images are '\u001b[0m\u001b[0;34m\u001b[0m\u001b[0;34m\u001b[0m\u001b[0m\n\u001b[1;32m    171\u001b[0m             \u001b[0;34m'at least 7x7; or pass win_size explicitly '\u001b[0m\u001b[0;34m\u001b[0m\u001b[0;34m\u001b[0m\u001b[0m\n",
      "\u001b[0;31mValueError\u001b[0m: win_size exceeds image extent. Either ensure that your images are at least 7x7; or pass win_size explicitly in the function call, with an odd value less than or equal to the smaller side of your images. If your images are multichannel (with color channels), set channel_axis to the axis number corresponding to the channels."
     ]
    }
   ],
   "source": [
    "start = time.time()\n",
    "print(structural_sim(im3,im3))\n",
    "end = time.time()\n",
    "print('time!!!!!',end - start) "
   ]
  },
  {
   "cell_type": "code",
   "execution_count": null,
   "id": "3f7b2398",
   "metadata": {},
   "outputs": [],
   "source": []
  },
  {
   "cell_type": "code",
   "execution_count": null,
   "id": "4793e0c6",
   "metadata": {},
   "outputs": [],
   "source": []
  },
  {
   "cell_type": "code",
   "execution_count": null,
   "id": "43522909",
   "metadata": {},
   "outputs": [],
   "source": []
  },
  {
   "cell_type": "code",
   "execution_count": null,
   "id": "e3cbd493",
   "metadata": {},
   "outputs": [],
   "source": []
  },
  {
   "cell_type": "code",
   "execution_count": null,
   "id": "e0825097",
   "metadata": {},
   "outputs": [],
   "source": []
  },
  {
   "cell_type": "code",
   "execution_count": null,
   "id": "400dbbf6",
   "metadata": {},
   "outputs": [],
   "source": []
  },
  {
   "cell_type": "code",
   "execution_count": 15,
   "id": "0fbff3bc",
   "metadata": {},
   "outputs": [],
   "source": [
    "import sys, getopt, os\n",
    "import subprocess\n",
    "from pathlib import Path\n",
    "import glob\n",
    "import time\n",
    "import os.path\n",
    "from moviepy.editor import VideoFileClip\n",
    "\n",
    "segment = '/home/amine/Downloads/index.m3u8'\n",
    "\n",
    "if os.path.isfile(\"2m_hls/\"+segment) and \".ts\" in segment:\n",
    "\n",
    "    print(\"segment => \"+segment)\n",
    "    # clip = VideoFileClip(\"2m_hls/\"+segment)\n",
    "    # duration = int(clip.duration)\n",
    "    duration = 6\n",
    "    ts = time.time()\n",
    "    ts = \".\"+str(ts).split('.')[0]\n",
    "    now = str(segment).split('.')[0]\n",
    "\n",
    "    home = os.path.expanduser(\"~\")\n",
    "    ffmpeg = 'ffmpeg'\n",
    "    cwd = os.getcwd()\n",
    "\n",
    "    # video = 25 frame par second\n",
    "\n",
    "    cmd = \"ffmpeg -y -i 2m_hls/\"+segment+\" -vf 'select=gt(scene\\,0.10)' -vsync vfr -frame_pts true iframes_live/\"+now+str(ts)+\"_%d_\"+str(duration)+\".png\"\n",
    "    # cmd = \"ffmpeg -y -i 2m_hls/\"+segment+\" -vf \\\"select='eq(pict_type,PICT_TYPE_I)'\\\" -vsync vfr -frame_pts true iframes_live/\"+now+str(ts)+\"_%d_\"+str(duration)+\".png\"\n",
    "    print(cmd)\n",
    "    # python3 iframe_scanner.py $file\n",
    "    os.system(cmd)\n",
    "    # os.system(\"rm 2m_hls/\"+segment)\n",
    "    #\n",
    "    # print(\"python3 iframe_scanner2.py \"+now+\"_dfsd\")\n",
    "    # os.system(\"python3 iframe_scanner2.py \"+now+\"_sdfsd > /dev/null 2>&1 & \")\n"
   ]
  },
  {
   "cell_type": "code",
   "execution_count": null,
   "id": "665241e4",
   "metadata": {},
   "outputs": [],
   "source": []
  },
  {
   "cell_type": "code",
   "execution_count": null,
   "id": "8e08dcd4",
   "metadata": {},
   "outputs": [],
   "source": []
  },
  {
   "cell_type": "code",
   "execution_count": null,
   "id": "ea3e5958",
   "metadata": {},
   "outputs": [],
   "source": []
  },
  {
   "cell_type": "code",
   "execution_count": 16,
   "id": "553264ce",
   "metadata": {},
   "outputs": [],
   "source": [
    "def compare_image(image_1, image_2):\n",
    "    first_image_hist = cv2.calcHist([image_1], [0], None, [256], [0, 256])\n",
    "    second_image_hist = cv2.calcHist([image_2], [0], None, [256], [0, 256])\n",
    "\n",
    "    img_hist_diff = cv2.compareHist(first_image_hist, second_image_hist, cv2.HISTCMP_BHATTACHARYYA)\n",
    "    img_template_probability_match = cv2.matchTemplate(first_image_hist, second_image_hist, cv2.TM_CCOEFF_NORMED)[0][0]\n",
    "    img_template_diff = 1 - img_template_probability_match\n",
    "\n",
    "    # taking only 10% of histogram diff, since it's less accurate than template method\n",
    "    commutative_image_diff = (img_hist_diff / 10) + img_template_diff\n",
    "    return commutative_image_diff"
   ]
  },
  {
   "cell_type": "code",
   "execution_count": 17,
   "id": "9c497edf",
   "metadata": {},
   "outputs": [
    {
     "data": {
      "text/plain": [
       "0.39249651685479814"
      ]
     },
     "execution_count": 17,
     "metadata": {},
     "output_type": "execute_result"
    }
   ],
   "source": [
    "compare_image(im1, im2)"
   ]
  },
  {
   "cell_type": "code",
   "execution_count": null,
   "id": "8add8f76",
   "metadata": {},
   "outputs": [],
   "source": []
  },
  {
   "cell_type": "code",
   "execution_count": null,
   "id": "a591afe6",
   "metadata": {},
   "outputs": [],
   "source": []
  },
  {
   "cell_type": "code",
   "execution_count": null,
   "id": "447873b1",
   "metadata": {},
   "outputs": [],
   "source": []
  }
 ],
 "metadata": {
  "kernelspec": {
   "display_name": "Python 3 (ipykernel)",
   "language": "python",
   "name": "python3"
  },
  "language_info": {
   "codemirror_mode": {
    "name": "ipython",
    "version": 3
   },
   "file_extension": ".py",
   "mimetype": "text/x-python",
   "name": "python",
   "nbconvert_exporter": "python",
   "pygments_lexer": "ipython3",
   "version": "3.7.11"
  }
 },
 "nbformat": 4,
 "nbformat_minor": 5
}
